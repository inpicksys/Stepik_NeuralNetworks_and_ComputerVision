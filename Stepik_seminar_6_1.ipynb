{
  "nbformat": 4,
  "nbformat_minor": 0,
  "metadata": {
    "colab": {
      "name": "Stepik_seminar_6-1.ipynb",
      "version": "0.3.2",
      "provenance": [],
      "collapsed_sections": [],
      "include_colab_link": true
    },
    "kernelspec": {
      "name": "python3",
      "display_name": "Python 3"
    },
    "accelerator": "GPU"
  },
  "cells": [
    {
      "cell_type": "markdown",
      "metadata": {
        "id": "view-in-github",
        "colab_type": "text"
      },
      "source": [
        "<a href=\"https://colab.research.google.com/github/smartsinovich/Stepik_NeuralNetworks_and_ComputerVision/blob/master/Stepik_seminar_6_1.ipynb\" target=\"_parent\"><img src=\"https://colab.research.google.com/assets/colab-badge.svg\" alt=\"Open In Colab\"/></a>"
      ]
    },
    {
      "cell_type": "markdown",
      "metadata": {
        "id": "hkdUPo7g0mdp",
        "colab_type": "text"
      },
      "source": [
        "Модернизация сети LeNet"
      ]
    },
    {
      "cell_type": "markdown",
      "metadata": {
        "id": "JhUC5-nLzqer",
        "colab_type": "text"
      },
      "source": [
        "![alt text](https://camo.githubusercontent.com/d464ca86de08d7173fcccc38ec0c840a6da02cea/68747470733a2f2f656e676d726b2e636f6d2f77702d636f6e74656e742f75706c6f6164732f323031382f30392f4c654e65745f4f726967696e616c5f496d6167652e6a7067)"
      ]
    },
    {
      "cell_type": "markdown",
      "metadata": {
        "id": "Ou0jOGTezt3p",
        "colab_type": "text"
      },
      "source": [
        "![alt text](https://camo.githubusercontent.com/9028f39092178a1b65f243eb8b471ebd84920cec/68747470733a2f2f656e676d726b2e636f6d2f77702d636f6e74656e742f75706c6f6164732f323031382f30392f4c654e45745f53756d6d6172795f5461626c652e6a7067)"
      ]
    },
    {
      "cell_type": "markdown",
      "metadata": {
        "id": "mWsUWLJt0jvA",
        "colab_type": "text"
      },
      "source": [
        "Что мы исправим:\n",
        "\n",
        "\n",
        "*   Сейчас не используют активацию tanh (и сигмоиды), она приводит к затуханию градиента\n",
        "*   Вместо свертки 5*5 (25 параметров) используем каскад из двух сверток 3*3 (2*9=18 параметров)\n",
        "\n",
        "\n",
        "*   Вместо Average Pooling (который сейчас используют только в конце сети) будем использовать MaxPooling\n",
        "*   Применим батч-нормализацию\n",
        "\n",
        "\n",
        "\n"
      ]
    },
    {
      "cell_type": "code",
      "metadata": {
        "id": "HPI5ibmpzVNj",
        "colab_type": "code",
        "colab": {}
      },
      "source": [
        "import torch\n",
        "import random\n",
        "import numpy as np\n",
        "\n",
        "random.seed(0)\n",
        "np.random.seed(0)\n",
        "torch.manual_seed(0)\n",
        "torch.cuda.manual_seed(0)\n",
        "torch.backends.cudnn.deterministic = True"
      ],
      "execution_count": 0,
      "outputs": []
    },
    {
      "cell_type": "code",
      "metadata": {
        "id": "SNWrF3dgz0kW",
        "colab_type": "code",
        "colab": {}
      },
      "source": [
        "import torchvision.datasets"
      ],
      "execution_count": 0,
      "outputs": []
    },
    {
      "cell_type": "code",
      "metadata": {
        "id": "o3rRBPrsz2Va",
        "colab_type": "code",
        "outputId": "6ef0188c-724e-4532-a927-25899a04f00e",
        "colab": {
          "base_uri": "https://localhost:8080/",
          "height": 275
        }
      },
      "source": [
        "MNIST_train = torchvision.datasets.MNIST('./', download=True, train=True)\n",
        "MNIST_test = torchvision.datasets.MNIST('./', download=True, train=False)"
      ],
      "execution_count": 0,
      "outputs": [
        {
          "output_type": "stream",
          "text": [
            "\r0it [00:00, ?it/s]"
          ],
          "name": "stderr"
        },
        {
          "output_type": "stream",
          "text": [
            "Downloading http://yann.lecun.com/exdb/mnist/train-images-idx3-ubyte.gz to ./MNIST/raw/train-images-idx3-ubyte.gz\n"
          ],
          "name": "stdout"
        },
        {
          "output_type": "stream",
          "text": [
            "9920512it [00:02, 3391594.64it/s]                             \n"
          ],
          "name": "stderr"
        },
        {
          "output_type": "stream",
          "text": [
            "Extracting ./MNIST/raw/train-images-idx3-ubyte.gz\n"
          ],
          "name": "stdout"
        },
        {
          "output_type": "stream",
          "text": [
            "\r0it [00:00, ?it/s]"
          ],
          "name": "stderr"
        },
        {
          "output_type": "stream",
          "text": [
            "Downloading http://yann.lecun.com/exdb/mnist/train-labels-idx1-ubyte.gz to ./MNIST/raw/train-labels-idx1-ubyte.gz\n"
          ],
          "name": "stdout"
        },
        {
          "output_type": "stream",
          "text": [
            "32768it [00:00, 56541.09it/s]                           \n",
            "0it [00:00, ?it/s]"
          ],
          "name": "stderr"
        },
        {
          "output_type": "stream",
          "text": [
            "Extracting ./MNIST/raw/train-labels-idx1-ubyte.gz\n",
            "Downloading http://yann.lecun.com/exdb/mnist/t10k-images-idx3-ubyte.gz to ./MNIST/raw/t10k-images-idx3-ubyte.gz\n"
          ],
          "name": "stdout"
        },
        {
          "output_type": "stream",
          "text": [
            "1654784it [00:01, 949271.27it/s]                            \n",
            "0it [00:00, ?it/s]"
          ],
          "name": "stderr"
        },
        {
          "output_type": "stream",
          "text": [
            "Extracting ./MNIST/raw/t10k-images-idx3-ubyte.gz\n",
            "Downloading http://yann.lecun.com/exdb/mnist/t10k-labels-idx1-ubyte.gz to ./MNIST/raw/t10k-labels-idx1-ubyte.gz\n"
          ],
          "name": "stdout"
        },
        {
          "output_type": "stream",
          "text": [
            "8192it [00:00, 20949.90it/s]            "
          ],
          "name": "stderr"
        },
        {
          "output_type": "stream",
          "text": [
            "Extracting ./MNIST/raw/t10k-labels-idx1-ubyte.gz\n",
            "Processing...\n",
            "Done!\n"
          ],
          "name": "stdout"
        },
        {
          "output_type": "stream",
          "text": [
            "\n"
          ],
          "name": "stderr"
        }
      ]
    },
    {
      "cell_type": "code",
      "metadata": {
        "id": "Ho-X8JSzz5Co",
        "colab_type": "code",
        "outputId": "c6b37be2-d363-4ab3-d9f8-2ce594378e9c",
        "colab": {
          "base_uri": "https://localhost:8080/",
          "height": 173
        }
      },
      "source": [
        "X_train = MNIST_train.train_data\n",
        "y_train = MNIST_train.train_labels\n",
        "X_test = MNIST_test.test_data\n",
        "y_test = MNIST_test.test_labels"
      ],
      "execution_count": 0,
      "outputs": [
        {
          "output_type": "stream",
          "text": [
            "/usr/local/lib/python3.6/dist-packages/torchvision/datasets/mnist.py:53: UserWarning: train_data has been renamed data\n",
            "  warnings.warn(\"train_data has been renamed data\")\n",
            "/usr/local/lib/python3.6/dist-packages/torchvision/datasets/mnist.py:43: UserWarning: train_labels has been renamed targets\n",
            "  warnings.warn(\"train_labels has been renamed targets\")\n",
            "/usr/local/lib/python3.6/dist-packages/torchvision/datasets/mnist.py:58: UserWarning: test_data has been renamed data\n",
            "  warnings.warn(\"test_data has been renamed data\")\n",
            "/usr/local/lib/python3.6/dist-packages/torchvision/datasets/mnist.py:48: UserWarning: test_labels has been renamed targets\n",
            "  warnings.warn(\"test_labels has been renamed targets\")\n"
          ],
          "name": "stderr"
        }
      ]
    },
    {
      "cell_type": "code",
      "metadata": {
        "id": "g1RD5B1xz6tE",
        "colab_type": "code",
        "outputId": "2aa5cf2d-b244-4d9c-acff-0e749dd713f1",
        "colab": {
          "base_uri": "https://localhost:8080/",
          "height": 34
        }
      },
      "source": [
        "len(y_train), len(y_test)"
      ],
      "execution_count": 0,
      "outputs": [
        {
          "output_type": "execute_result",
          "data": {
            "text/plain": [
              "(60000, 10000)"
            ]
          },
          "metadata": {
            "tags": []
          },
          "execution_count": 5
        }
      ]
    },
    {
      "cell_type": "code",
      "metadata": {
        "id": "kldUnBzRz9i0",
        "colab_type": "code",
        "outputId": "682fd3d4-b3a8-4b5d-e738-e2c5c91e6f6b",
        "colab": {
          "base_uri": "https://localhost:8080/",
          "height": 286
        }
      },
      "source": [
        "import matplotlib.pyplot as plt\n",
        "plt.imshow(X_train[0, :, :])\n",
        "plt.show()\n",
        "print(y_train[0])"
      ],
      "execution_count": 0,
      "outputs": [
        {
          "output_type": "display_data",
          "data": {
            "image/png": "[encoded data removed]",
            "text/plain": [
              "<Figure size 432x288 with 1 Axes>"
            ]
          },
          "metadata": {
            "tags": []
          }
        },
        {
          "output_type": "stream",
          "text": [
            "tensor(5)\n"
          ],
          "name": "stdout"
        }
      ]
    },
    {
      "cell_type": "code",
      "metadata": {
        "id": "zA5EXzs8z_VH",
        "colab_type": "code",
        "colab": {}
      },
      "source": [
        "X_train = X_train.unsqueeze(1).float()\n",
        "X_test = X_test.unsqueeze(1).float()"
      ],
      "execution_count": 0,
      "outputs": []
    },
    {
      "cell_type": "code",
      "metadata": {
        "id": "oYpLFgY10Cyc",
        "colab_type": "code",
        "outputId": "139d88f2-eafa-4abe-a46b-ad76f5c704a9",
        "colab": {
          "base_uri": "https://localhost:8080/",
          "height": 34
        }
      },
      "source": [
        "X_train.shape"
      ],
      "execution_count": 0,
      "outputs": [
        {
          "output_type": "execute_result",
          "data": {
            "text/plain": [
              "torch.Size([60000, 1, 28, 28])"
            ]
          },
          "metadata": {
            "tags": []
          },
          "execution_count": 8
        }
      ]
    },
    {
      "cell_type": "markdown",
      "metadata": {
        "id": "MhtsKN6o5Em0",
        "colab_type": "text"
      },
      "source": [
        "Будем менять ф-ю активации, пуллинг, размер свертки, -/+ батч-нормализация\n",
        "\n",
        "\n",
        "\n",
        "1.   tahn -> relu\n",
        "2.   слой 5 * 5 -> два слоя 3 * 3\n",
        "3.  average pooling -> max pooling\n",
        "4. добавляем батч-нормализацию после 2 слоев свертки\n",
        "\n",
        "\n",
        "\n"
      ]
    },
    {
      "cell_type": "code",
      "metadata": {
        "id": "N27kAXB20Jxh",
        "colab_type": "code",
        "colab": {}
      },
      "source": [
        "class LeNet5(torch.nn.Module):\n",
        "    def __init__(self,\n",
        "                 #вводим переменные, которые определяют ф-ю актиации и пуллинг\n",
        "                 #а также размер свертки и использование/не использование батч-нормализации\n",
        "                 activation='tanh',\n",
        "                 pooling='avg',\n",
        "                 conv_size=5,\n",
        "                 use_batch_norm=False):\n",
        "        super(LeNet5, self).__init__()\n",
        "        \n",
        "        self.conv_size = conv_size\n",
        "        self.use_batch_norm = use_batch_norm\n",
        "        \n",
        "        if activation == 'tanh':\n",
        "            activation_function = torch.nn.Tanh()\n",
        "        elif activation == 'relu':\n",
        "            activation_function  = torch.nn.ReLU()\n",
        "        else:\n",
        "            raise NotImplementedError\n",
        "            \n",
        "        if pooling == 'avg':\n",
        "            pooling_layer = torch.nn.AvgPool2d(kernel_size=2, stride=2)\n",
        "        elif pooling == 'max':\n",
        "            pooling_layer  = torch.nn.MaxPool2d(kernel_size=2, stride=2)\n",
        "        else:\n",
        "            raise NotImplementedError\n",
        "        \n",
        "        \n",
        "        if conv_size == 5:\n",
        "            self.conv1 = torch.nn.Conv2d(\n",
        "                in_channels=1, out_channels=6, kernel_size=5, padding=2)\n",
        "        elif conv_size == 3:\n",
        "            self.conv1_1 = torch.nn.Conv2d(\n",
        "                in_channels=1, out_channels=6, kernel_size=3, padding=1)\n",
        "            self.conv1_2 = torch.nn.Conv2d(\n",
        "                in_channels=6, out_channels=6, kernel_size=3, padding=1)\n",
        "        else:\n",
        "            raise NotImplementedError\n",
        "\n",
        "        self.act1 = activation_function\n",
        "        self.bn1 = torch.nn.BatchNorm2d(num_features=6)\n",
        "        self.pool1 = pooling_layer\n",
        "       \n",
        "        if conv_size == 5:\n",
        "            self.conv2 = self.conv2 = torch.nn.Conv2d(\n",
        "                in_channels=6, out_channels=16, kernel_size=5, padding=0)\n",
        "        elif conv_size == 3:\n",
        "            self.conv2_1 = torch.nn.Conv2d(\n",
        "                in_channels=6, out_channels=16, kernel_size=3, padding=0)\n",
        "            self.conv2_2 = torch.nn.Conv2d(\n",
        "                in_channels=16, out_channels=16, kernel_size=3, padding=0)\n",
        "        else:\n",
        "            raise NotImplementedError\n",
        "\n",
        "        self.act2 = activation_function\n",
        "        #слой батч-нормализации\n",
        "        #картинки - BatchNorm2d, вектора - BatchNorm1d\n",
        "        #параметр - кол-во каналов, которое имеет картинка/вектор перед батч-нормализацией\n",
        "        self.bn2 = torch.nn.BatchNorm2d(num_features=16)\n",
        "        self.pool2 = pooling_layer\n",
        "        \n",
        "        self.fc1 = torch.nn.Linear(5 * 5 * 16, 120)\n",
        "        self.act3 = activation_function\n",
        "    \n",
        "        self.fc2 = torch.nn.Linear(120, 84)\n",
        "        self.act4 = activation_function\n",
        "        \n",
        "        self.fc3 = torch.nn.Linear(84, 10)\n",
        "    \n",
        "    def forward(self, x):\n",
        "        #если размер свертки 5 - одна свертка\n",
        "        #если размер свертки 3 - две последовательные свертки\n",
        "        if self.conv_size == 5:\n",
        "            x = self.conv1(x)\n",
        "        elif self.conv_size == 3:\n",
        "            x = self.conv1_2(self.conv1_1(x))\n",
        "        x = self.act1(x)\n",
        "        #если хотим батч-нормализацию, то после свертки дополнительно применяем слой батч-нормализации\n",
        "        if self.use_batch_norm:\n",
        "            x = self.bn1(x)\n",
        "        x = self.pool1(x)\n",
        "        \n",
        "        if self.conv_size == 5:\n",
        "            x = self.conv2(x)\n",
        "        elif self.conv_size == 3:\n",
        "            x = self.conv2_2(self.conv2_1(x))\n",
        "        x = self.act2(x)\n",
        "        if self.use_batch_norm:\n",
        "            x = self.bn2(x)\n",
        "        x = self.pool2(x)\n",
        "        \n",
        "        x = x.view(x.size(0), x.size(1) * x.size(2) * x.size(3))\n",
        "        x = self.fc1(x)\n",
        "        x = self.act3(x)\n",
        "        x = self.fc2(x)\n",
        "        x = self.act4(x)\n",
        "        x = self.fc3(x)\n",
        "        \n",
        "        return x"
      ],
      "execution_count": 0,
      "outputs": []
    },
    {
      "cell_type": "markdown",
      "metadata": {
        "id": "Oil5ClMN3a87",
        "colab_type": "text"
      },
      "source": [
        "Теперь мы можем запускать трейн с разными параметрами и смотреть на результаты работы разных сетей"
      ]
    },
    {
      "cell_type": "code",
      "metadata": {
        "id": "ITLBPIS30QvZ",
        "colab_type": "code",
        "outputId": "c8bf85d8-25ef-44e7-81f9-2d1fb460e112",
        "colab": {
          "base_uri": "https://localhost:8080/",
          "height": 1000
        }
      },
      "source": [
        "def train(net, X_train, y_train, X_test, y_test):\n",
        "    device = torch.device('cuda:0' if torch.cuda.is_available() else 'cpu')\n",
        "    net = net.to(device)\n",
        "    loss = torch.nn.CrossEntropyLoss()\n",
        "    optimizer = torch.optim.Adam(net.parameters(), lr=1.0e-3)\n",
        "    \n",
        "    batch_size = 100\n",
        "\n",
        "    test_accuracy_history = []\n",
        "    test_loss_history = []\n",
        "\n",
        "    X_test = X_test.to(device)\n",
        "    y_test = y_test.to(device)\n",
        "\n",
        "    for epoch in range(30):\n",
        "        order = np.random.permutation(len(X_train))\n",
        "        for start_index in range(0, len(X_train), batch_size):\n",
        "            optimizer.zero_grad()\n",
        "            #флажки нужны для батч-нормализации\n",
        "            #нужно для корректного изменения среднего значения и станд отклонения \n",
        "            \n",
        "            #сеть находится в состоянии тренировки            \n",
        "            net.train()\n",
        "\n",
        "            batch_indexes = order[start_index:start_index+batch_size]\n",
        "\n",
        "            X_batch = X_train[batch_indexes].to(device)\n",
        "            y_batch = y_train[batch_indexes].to(device)\n",
        "\n",
        "            preds = net.forward(X_batch) \n",
        "\n",
        "            loss_value = loss(preds, y_batch)\n",
        "            loss_value.backward()\n",
        "\n",
        "            optimizer.step()\n",
        "        #сеть находится в состоянии evaluation\n",
        "        #средн значение и станд отклонение не изменяются\n",
        "        #иначе обученная сеть может перестать работать\n",
        "        net.eval()\n",
        "        test_preds = net.forward(X_test)\n",
        "        test_loss_history.append(loss(test_preds, y_test).data.cpu())\n",
        "\n",
        "        accuracy = (test_preds.argmax(dim=1) == y_test).float().mean().data.cpu()\n",
        "        test_accuracy_history.append(accuracy)\n",
        "\n",
        "        print(accuracy)\n",
        "    print('---------------')\n",
        "    return test_accuracy_history, test_loss_history\n",
        "\n",
        "accuracies = {}\n",
        "losses = {}\n",
        "\n",
        "\n",
        "accuracies['tanh'], losses['tanh'] = \\\n",
        "    train(LeNet5(activation='tanh', conv_size=5),\n",
        "          X_train, y_train, X_test, y_test)\n",
        "\n",
        "accuracies['relu'], losses['relu'] = \\\n",
        "    train(LeNet5(activation='relu', conv_size=5),\n",
        "          X_train, y_train, X_test, y_test)\n",
        "\n",
        "accuracies['relu_3'], losses['relu_3'] = \\\n",
        "    train(LeNet5(activation='relu', conv_size=3),\n",
        "          X_train, y_train, X_test, y_test)\n",
        "\n",
        "accuracies['relu_3_max_pool'], losses['relu_3_max_pool'] = \\\n",
        "    train(LeNet5(activation='relu', conv_size=3, pooling='max'), \n",
        "          X_train, y_train, X_test, y_test)\n",
        "\n",
        "accuracies['relu_3_max_pool_bn'], losses['relu_3_max_pool_bn'] = \\\n",
        "    train(LeNet5(activation='relu', conv_size=3, pooling='max', use_batch_norm=True), \n",
        "          X_train, y_train, X_test, y_test)"
      ],
      "execution_count": 0,
      "outputs": [
        {
          "output_type": "stream",
          "text": [
            "tensor(0.9777)\n",
            "tensor(0.9853)\n",
            "tensor(0.9853)\n",
            "tensor(0.9875)\n",
            "tensor(0.9878)\n",
            "tensor(0.9860)\n",
            "tensor(0.9872)\n",
            "tensor(0.9889)\n",
            "tensor(0.9868)\n",
            "tensor(0.9869)\n",
            "tensor(0.9879)\n",
            "tensor(0.9890)\n",
            "tensor(0.9898)\n",
            "tensor(0.9885)\n",
            "tensor(0.9886)\n",
            "tensor(0.9873)\n",
            "tensor(0.9887)\n",
            "tensor(0.9870)\n",
            "tensor(0.9880)\n",
            "tensor(0.9881)\n",
            "tensor(0.9879)\n",
            "tensor(0.9865)\n",
            "tensor(0.9892)\n",
            "tensor(0.9882)\n",
            "tensor(0.9873)\n",
            "tensor(0.9873)\n",
            "tensor(0.9881)\n",
            "tensor(0.9863)\n",
            "tensor(0.9885)\n",
            "tensor(0.9898)\n",
            "---------------\n",
            "tensor(0.9802)\n",
            "tensor(0.9887)\n",
            "tensor(0.9890)\n",
            "tensor(0.9889)\n",
            "tensor(0.9900)\n",
            "tensor(0.9907)\n",
            "tensor(0.9890)\n",
            "tensor(0.9924)\n",
            "tensor(0.9903)\n",
            "tensor(0.9897)\n",
            "tensor(0.9894)\n",
            "tensor(0.9903)\n",
            "tensor(0.9845)\n",
            "tensor(0.9906)\n",
            "tensor(0.9898)\n",
            "tensor(0.9869)\n",
            "tensor(0.9889)\n",
            "tensor(0.9902)\n",
            "tensor(0.9898)\n",
            "tensor(0.9907)\n",
            "tensor(0.9908)\n",
            "tensor(0.9918)\n",
            "tensor(0.9898)\n",
            "tensor(0.9901)\n",
            "tensor(0.9919)\n",
            "tensor(0.9902)\n",
            "tensor(0.9895)\n",
            "tensor(0.9897)\n",
            "tensor(0.9906)\n",
            "tensor(0.9903)\n",
            "---------------\n",
            "tensor(0.9817)\n",
            "tensor(0.9873)\n",
            "tensor(0.9883)\n",
            "tensor(0.9879)\n",
            "tensor(0.9906)\n",
            "tensor(0.9892)\n",
            "tensor(0.9876)\n",
            "tensor(0.9904)\n",
            "tensor(0.9894)\n",
            "tensor(0.9878)\n",
            "tensor(0.9911)\n",
            "tensor(0.9892)\n",
            "tensor(0.9912)\n",
            "tensor(0.9904)\n",
            "tensor(0.9875)\n",
            "tensor(0.9889)\n",
            "tensor(0.9913)\n",
            "tensor(0.9908)\n",
            "tensor(0.9908)\n",
            "tensor(0.9909)\n",
            "tensor(0.9922)\n",
            "tensor(0.9912)\n",
            "tensor(0.9884)\n",
            "tensor(0.9915)\n",
            "tensor(0.9900)\n",
            "tensor(0.9910)\n",
            "tensor(0.9890)\n",
            "tensor(0.9897)\n",
            "tensor(0.9899)\n",
            "tensor(0.9926)\n",
            "---------------\n",
            "tensor(0.9766)\n",
            "tensor(0.9840)\n",
            "tensor(0.9877)\n",
            "tensor(0.9873)\n",
            "tensor(0.9838)\n",
            "tensor(0.9879)\n",
            "tensor(0.9884)\n",
            "tensor(0.9881)\n",
            "tensor(0.9866)\n",
            "tensor(0.9868)\n",
            "tensor(0.9887)\n",
            "tensor(0.9871)\n",
            "tensor(0.9887)\n",
            "tensor(0.9889)\n",
            "tensor(0.9907)\n",
            "tensor(0.9908)\n",
            "tensor(0.9899)\n",
            "tensor(0.9893)\n",
            "tensor(0.9884)\n",
            "tensor(0.9878)\n",
            "tensor(0.9885)\n",
            "tensor(0.9878)\n",
            "tensor(0.9885)\n",
            "tensor(0.9900)\n",
            "tensor(0.9897)\n",
            "tensor(0.9897)\n",
            "tensor(0.9872)\n",
            "tensor(0.9917)\n",
            "tensor(0.9875)\n",
            "tensor(0.9903)\n",
            "---------------\n",
            "tensor(0.9849)\n",
            "tensor(0.9876)\n",
            "tensor(0.9897)\n",
            "tensor(0.9885)\n",
            "tensor(0.9873)\n",
            "tensor(0.9874)\n",
            "tensor(0.9905)\n",
            "tensor(0.9888)\n",
            "tensor(0.9902)\n",
            "tensor(0.9896)\n",
            "tensor(0.9897)\n",
            "tensor(0.9921)\n",
            "tensor(0.9898)\n",
            "tensor(0.9904)\n",
            "tensor(0.9896)\n",
            "tensor(0.9885)\n",
            "tensor(0.9915)\n",
            "tensor(0.9881)\n",
            "tensor(0.9908)\n",
            "tensor(0.9915)\n",
            "tensor(0.9882)\n",
            "tensor(0.9908)\n",
            "tensor(0.9917)\n",
            "tensor(0.9917)\n",
            "tensor(0.9912)\n",
            "tensor(0.9903)\n",
            "tensor(0.9909)\n",
            "tensor(0.9899)\n",
            "tensor(0.9914)\n",
            "tensor(0.9908)\n",
            "---------------\n"
          ],
          "name": "stdout"
        }
      ]
    },
    {
      "cell_type": "code",
      "metadata": {
        "id": "llcx10a20UCl",
        "colab_type": "code",
        "outputId": "dd4b0970-22bc-410d-b6c4-123704905710",
        "colab": {
          "base_uri": "https://localhost:8080/",
          "height": 281
        }
      },
      "source": [
        "for experiment_id in accuracies.keys():\n",
        "    plt.plot(accuracies[experiment_id], label=experiment_id)\n",
        "plt.legend()\n",
        "plt.title('Validation Accuracy');"
      ],
      "execution_count": 0,
      "outputs": [
        {
          "output_type": "display_data",
          "data": {
            "image/png": "[encoded data removed]",
            "text/plain": [
              "<Figure size 432x288 with 1 Axes>"
            ]
          },
          "metadata": {
            "tags": []
          }
        }
      ]
    },
    {
      "cell_type": "code",
      "metadata": {
        "id": "PTRmZY-v0V6j",
        "colab_type": "code",
        "outputId": "748a338d-4988-4475-e05e-ef6fc1de6c6b",
        "colab": {
          "base_uri": "https://localhost:8080/",
          "height": 281
        }
      },
      "source": [
        "for experiment_id in losses.keys():\n",
        "    plt.plot(losses[experiment_id], label=experiment_id)\n",
        "plt.legend()\n",
        "plt.title('Validation Loss');"
      ],
      "execution_count": 0,
      "outputs": [
        {
          "output_type": "display_data",
          "data": {
            "image/png": "[encoded data removed]",
            "text/plain": [
              "<Figure size 432x288 with 1 Axes>"
            ]
          },
          "metadata": {
            "tags": []
          }
        }
      ]
    },
    {
      "cell_type": "markdown",
      "metadata": {
        "id": "QWdABS3nA4rR",
        "colab_type": "text"
      },
      "source": [
        "Результаты:\n",
        "\n",
        "30 эпох обучения\n",
        "\n",
        "*   все гарфики доходят примерно до одинакового результата точности на валидации\n",
        "*   гарфик точности не очень показательный\n",
        "* график relu 3 на лоссе показывает самые хорошие рез-ты\n",
        "* после 10-й эпохи происходит переобучение - все лоссы растут \n",
        "* изменили свертку с 5 на 5 на две по 3 на 3\n",
        ", сеть меньше переобучается\n",
        "* макспуллинги ухудшают обучение- результаты не всегда интуитивны\n",
        "* батч-нормализация не ускоряет обучение, возможно, потому, что датасет простой и сеть его быстро и так выучивает\n",
        "*italicized text*\n",
        "\n"
      ]
    }
  ]
}