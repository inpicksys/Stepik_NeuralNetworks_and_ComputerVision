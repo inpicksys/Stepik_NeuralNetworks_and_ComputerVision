{
  "nbformat": 4,
  "nbformat_minor": 0,
  "metadata": {
    "colab": {
      "name": "Stepik_seminar_1.ipynb",
      "version": "0.3.2",
      "provenance": [],
      "collapsed_sections": [],
      "include_colab_link": true
    },
    "kernelspec": {
      "name": "python3",
      "display_name": "Python 3"
    },
    "accelerator": "GPU"
  },
  "cells": [
    {
      "cell_type": "markdown",
      "metadata": {
        "id": "view-in-github",
        "colab_type": "text"
      },
      "source": [
        "<a href=\"https://colab.research.google.com/github/smartsinovich/Stepik_NeuralNetworks_and_ComputerVision/blob/master/Stepik_seminar_1.ipynb\" target=\"_parent\"><img src=\"https://colab.research.google.com/assets/colab-badge.svg\" alt=\"Open In Colab\"/></a>"
      ]
    },
    {
      "cell_type": "code",
      "metadata": {
        "id": "kXOgWm5esmc1",
        "colab_type": "code",
        "colab": {}
      },
      "source": [
        "import torch"
      ],
      "execution_count": 0,
      "outputs": []
    },
    {
      "cell_type": "code",
      "metadata": {
        "id": "maenhxMLs8_b",
        "colab_type": "code",
        "colab": {}
      },
      "source": [
        "a = torch.ones([5,4])\n",
        "b = torch.Tensor([[1,2,3,4],\n",
        "                  [5,6,7,8],\n",
        "                  [9,10,11,12],\n",
        "                  [13,14,15,16],\n",
        "                  [17,18,19,20]])"
      ],
      "execution_count": 0,
      "outputs": []
    },
    {
      "cell_type": "code",
      "metadata": {
        "id": "Wp-JF_3PtNw6",
        "colab_type": "code",
        "outputId": "7e494df7-94e5-4f47-efaa-94f1f05bb17c",
        "colab": {
          "base_uri": "https://localhost:8080/",
          "height": 102
        }
      },
      "source": [
        "a%b"
      ],
      "execution_count": 0,
      "outputs": [
        {
          "output_type": "execute_result",
          "data": {
            "text/plain": [
              "tensor([[0., 1., 1., 1.],\n",
              "        [1., 1., 1., 1.],\n",
              "        [1., 1., 1., 1.],\n",
              "        [1., 1., 1., 1.],\n",
              "        [1., 1., 1., 1.]])"
            ]
          },
          "metadata": {
            "tags": []
          },
          "execution_count": 4
        }
      ]
    },
    {
      "cell_type": "code",
      "metadata": {
        "id": "4-OZbX9Xw9qO",
        "colab_type": "code",
        "outputId": "cc15f394-fb9f-4f13-bb68-0cd1aeb80f19",
        "colab": {
          "base_uri": "https://localhost:8080/",
          "height": 68
        }
      },
      "source": [
        "torch.zeros([3,4])"
      ],
      "execution_count": 0,
      "outputs": [
        {
          "output_type": "execute_result",
          "data": {
            "text/plain": [
              "tensor([[0., 0., 0., 0.],\n",
              "        [0., 0., 0., 0.],\n",
              "        [0., 0., 0., 0.]])"
            ]
          },
          "metadata": {
            "tags": []
          },
          "execution_count": 5
        }
      ]
    },
    {
      "cell_type": "code",
      "metadata": {
        "id": "ruwDMvUVxDkO",
        "colab_type": "code",
        "colab": {}
      },
      "source": [
        "x = torch.ones([3,4,3])"
      ],
      "execution_count": 0,
      "outputs": []
    },
    {
      "cell_type": "code",
      "metadata": {
        "id": "oc_N8KxmxOj2",
        "colab_type": "code",
        "outputId": "9e5d7f95-511f-4571-f6ef-f1eb9770ecf4",
        "colab": {
          "base_uri": "https://localhost:8080/",
          "height": 34
        }
      },
      "source": [
        "x.size()"
      ],
      "execution_count": 0,
      "outputs": [
        {
          "output_type": "execute_result",
          "data": {
            "text/plain": [
              "torch.Size([3, 4, 3])"
            ]
          },
          "metadata": {
            "tags": []
          },
          "execution_count": 9
        }
      ]
    },
    {
      "cell_type": "code",
      "metadata": {
        "id": "Uep8WL6XxVJY",
        "colab_type": "code",
        "colab": {}
      },
      "source": [
        "x.shape"
      ],
      "execution_count": 0,
      "outputs": []
    },
    {
      "cell_type": "code",
      "metadata": {
        "id": "R_zMrE1pxXOJ",
        "colab_type": "code",
        "colab": {}
      },
      "source": [
        "#вызов строки с номером i\n",
        "x[0]\n",
        "x[1]"
      ],
      "execution_count": 0,
      "outputs": []
    },
    {
      "cell_type": "code",
      "metadata": {
        "id": "fEpAlaKZyBPq",
        "colab_type": "code",
        "colab": {}
      },
      "source": [
        "x[0,0]"
      ],
      "execution_count": 0,
      "outputs": []
    },
    {
      "cell_type": "code",
      "metadata": {
        "id": "aerCrNAAyDJB",
        "colab_type": "code",
        "colab": {}
      },
      "source": [
        "#вызов нулевого столбца, slice по всем элементам от 0 до конца\n",
        "x[:,0]"
      ],
      "execution_count": 0,
      "outputs": []
    },
    {
      "cell_type": "code",
      "metadata": {
        "id": "5ibzqWKWyUMN",
        "colab_type": "code",
        "colab": {}
      },
      "source": [
        "x+10"
      ],
      "execution_count": 0,
      "outputs": []
    },
    {
      "cell_type": "code",
      "metadata": {
        "id": "O5Jp3eHDyYRc",
        "colab_type": "code",
        "colab": {}
      },
      "source": [
        "#возведение в степень\n",
        "x**2"
      ],
      "execution_count": 0,
      "outputs": []
    },
    {
      "cell_type": "code",
      "metadata": {
        "id": "aA5zoLMcyd5h",
        "colab_type": "code",
        "colab": {}
      },
      "source": [
        "#поэлементные арифметические операции\n",
        "a+b\n",
        "a*b\n",
        "a/b\n",
        "a%b"
      ],
      "execution_count": 0,
      "outputs": []
    },
    {
      "cell_type": "code",
      "metadata": {
        "id": "v59NrSKgy-J9",
        "colab_type": "code",
        "colab": {}
      },
      "source": [
        "torch.exp(x)"
      ],
      "execution_count": 0,
      "outputs": []
    },
    {
      "cell_type": "code",
      "metadata": {
        "id": "g07jT7GIzBMA",
        "colab_type": "code",
        "colab": {}
      },
      "source": [
        "torch.log(x)"
      ],
      "execution_count": 0,
      "outputs": []
    },
    {
      "cell_type": "code",
      "metadata": {
        "id": "Xq8u2ifXzDga",
        "colab_type": "code",
        "colab": {}
      },
      "source": [
        "torch.sin(x)"
      ],
      "execution_count": 0,
      "outputs": []
    },
    {
      "cell_type": "code",
      "metadata": {
        "id": "j4sC_n4TzF_i",
        "colab_type": "code",
        "colab": {}
      },
      "source": [
        "#маска: остаются элементы, удовлетворяющие условию\n",
        "x[x>3]"
      ],
      "execution_count": 0,
      "outputs": []
    },
    {
      "cell_type": "code",
      "metadata": {
        "id": "Y56iI6h7zxgR",
        "colab_type": "code",
        "colab": {}
      },
      "source": [
        "#копирование ссылки (shallow): обе переменные ссылаются на один объект\n",
        "y=x\n",
        "y[0,0] = 999\n",
        "print(x)\n",
        "print(y)"
      ],
      "execution_count": 0,
      "outputs": []
    },
    {
      "cell_type": "code",
      "metadata": {
        "id": "WB8QkylIz_3p",
        "colab_type": "code",
        "colab": {}
      },
      "source": [
        "#создание нового объекта - копия по значению\n",
        "y=x.clone()\n",
        "y[0,0] = 888\n",
        "print(x)\n",
        "print(y)"
      ],
      "execution_count": 0,
      "outputs": []
    },
    {
      "cell_type": "code",
      "metadata": {
        "id": "DzkxCCxy0fzE",
        "colab_type": "code",
        "colab": {}
      },
      "source": [
        "x.dtype"
      ],
      "execution_count": 0,
      "outputs": []
    },
    {
      "cell_type": "code",
      "metadata": {
        "id": "3Pw9GK0Y0h9R",
        "colab_type": "code",
        "colab": {}
      },
      "source": [
        "x = x.double()\n",
        "print(x)\n",
        "x = x.int()\n",
        "print(x)\n",
        "x = x.float()\n",
        "print(x)"
      ],
      "execution_count": 0,
      "outputs": []
    },
    {
      "cell_type": "code",
      "metadata": {
        "id": "EVL4ytOj02nB",
        "colab_type": "code",
        "outputId": "715ef7ca-73c3-4dde-a5e5-e78c590d79bb",
        "colab": {
          "base_uri": "https://localhost:8080/",
          "height": 51
        }
      },
      "source": [
        "import numpy as np\n",
        "x = np.array([[1,2,3,4],\n",
        "              [4,3,2,1]])\n",
        "x"
      ],
      "execution_count": 0,
      "outputs": [
        {
          "output_type": "execute_result",
          "data": {
            "text/plain": [
              "array([[1, 2, 3, 4],\n",
              "       [4, 3, 2, 1]])"
            ]
          },
          "metadata": {
            "tags": []
          },
          "execution_count": 9
        }
      ]
    },
    {
      "cell_type": "code",
      "metadata": {
        "id": "VZgGjElD1Fi-",
        "colab_type": "code",
        "outputId": "37edf7bb-4050-4145-eca3-aa8fb29d86a7",
        "colab": {
          "base_uri": "https://localhost:8080/",
          "height": 51
        }
      },
      "source": [
        "#из numpy получаем tensor\n",
        "x = torch.from_numpy(x)\n",
        "x"
      ],
      "execution_count": 0,
      "outputs": [
        {
          "output_type": "execute_result",
          "data": {
            "text/plain": [
              "tensor([[1, 2, 3, 4],\n",
              "        [4, 3, 2, 1]])"
            ]
          },
          "metadata": {
            "tags": []
          },
          "execution_count": 10
        }
      ]
    },
    {
      "cell_type": "code",
      "metadata": {
        "id": "JHzWwHc61Oib",
        "colab_type": "code",
        "colab": {}
      },
      "source": [
        "#из tensor получаем numpy\n",
        "x = x.numpy()"
      ],
      "execution_count": 0,
      "outputs": []
    },
    {
      "cell_type": "code",
      "metadata": {
        "id": "rMFr3T6b1R6S",
        "colab_type": "code",
        "outputId": "7b7ece33-218f-4731-dc31-4ace6082ec26",
        "colab": {
          "base_uri": "https://localhost:8080/",
          "height": 136
        }
      },
      "source": [
        "#random\n",
        "x = torch.rand([2000,3000])\n",
        "x"
      ],
      "execution_count": 0,
      "outputs": [
        {
          "output_type": "execute_result",
          "data": {
            "text/plain": [
              "tensor([[0.1845, 0.5971, 0.5049,  ..., 0.0492, 0.7936, 0.0430],\n",
              "        [0.1974, 0.0872, 0.2349,  ..., 0.6881, 0.7554, 0.2811],\n",
              "        [0.7361, 0.9762, 0.4984,  ..., 0.6464, 0.1159, 0.8563],\n",
              "        ...,\n",
              "        [0.2722, 0.3830, 0.8647,  ..., 0.7030, 0.6551, 0.5900],\n",
              "        [0.5988, 0.0290, 0.4659,  ..., 0.7065, 0.6044, 0.7984],\n",
              "        [0.4518, 0.9190, 0.0893,  ..., 0.8232, 0.0243, 0.0375]])"
            ]
          },
          "metadata": {
            "tags": []
          },
          "execution_count": 18
        }
      ]
    },
    {
      "cell_type": "code",
      "metadata": {
        "id": "g_5XKlUi16U0",
        "colab_type": "code",
        "outputId": "f6f75b2d-2d73-4055-9dcc-d7e6b95f723c",
        "colab": {
          "base_uri": "https://localhost:8080/",
          "height": 34
        }
      },
      "source": [
        "torch.cuda.is_available()"
      ],
      "execution_count": 0,
      "outputs": [
        {
          "output_type": "execute_result",
          "data": {
            "text/plain": [
              "True"
            ]
          },
          "metadata": {
            "tags": []
          },
          "execution_count": 3
        }
      ]
    },
    {
      "cell_type": "code",
      "metadata": {
        "id": "jqfhoOjo2W5s",
        "colab_type": "code",
        "outputId": "95437ecc-091e-4ee1-b481-0d56001ae6d8",
        "colab": {
          "base_uri": "https://localhost:8080/",
          "height": 34
        }
      },
      "source": [
        "#выбираем видеокарту, если их несколько (если одна - у нее номер 0)\n",
        "torch.device('cuda:0')"
      ],
      "execution_count": 0,
      "outputs": [
        {
          "output_type": "execute_result",
          "data": {
            "text/plain": [
              "device(type='cuda', index=0)"
            ]
          },
          "metadata": {
            "tags": []
          },
          "execution_count": 4
        }
      ]
    },
    {
      "cell_type": "code",
      "metadata": {
        "id": "soQEUM3V23jl",
        "colab_type": "code",
        "outputId": "7dc6e8ce-79b0-45d4-93dd-3e198e8073c5",
        "colab": {
          "base_uri": "https://localhost:8080/",
          "height": 34
        }
      },
      "source": [
        "torch.device('cpu')"
      ],
      "execution_count": 0,
      "outputs": [
        {
          "output_type": "execute_result",
          "data": {
            "text/plain": [
              "device(type='cpu')"
            ]
          },
          "metadata": {
            "tags": []
          },
          "execution_count": 5
        }
      ]
    },
    {
      "cell_type": "code",
      "metadata": {
        "id": "KnbmD30z2kw0",
        "colab_type": "code",
        "outputId": "8cdfeb44-4a62-4fd9-c045-2ef79c79765b",
        "colab": {
          "base_uri": "https://localhost:8080/",
          "height": 34
        }
      },
      "source": [
        "#универсальный код: автоматический выбор\n",
        "device = torch.device('cuda:0' if torch.cuda.is_available() else 'cpu')\n",
        "device"
      ],
      "execution_count": 0,
      "outputs": [
        {
          "output_type": "execute_result",
          "data": {
            "text/plain": [
              "device(type='cuda', index=0)"
            ]
          },
          "metadata": {
            "tags": []
          },
          "execution_count": 6
        }
      ]
    },
    {
      "cell_type": "code",
      "metadata": {
        "id": "5YpGwQ123JFh",
        "colab_type": "code",
        "outputId": "2fe4ba62-6e5f-47aa-df3c-61773179ec7f",
        "colab": {
          "base_uri": "https://localhost:8080/",
          "height": 51
        }
      },
      "source": [
        "#перевод тензора на cuda\n",
        "x_cuda = x.to(device)\n",
        "x_cuda"
      ],
      "execution_count": 0,
      "outputs": [
        {
          "output_type": "execute_result",
          "data": {
            "text/plain": [
              "tensor([[0.0159, 0.2520, 0.6176],\n",
              "        [0.2323, 0.8999, 0.6760]], device='cuda:0')"
            ]
          },
          "metadata": {
            "tags": []
          },
          "execution_count": 15
        }
      ]
    },
    {
      "cell_type": "code",
      "metadata": {
        "id": "CHnPQjNp3NfX",
        "colab_type": "code",
        "outputId": "85295971-ff2a-45c1-8282-3d02030c66cd",
        "colab": {
          "base_uri": "https://localhost:8080/",
          "height": 51
        }
      },
      "source": [
        "#замеряем время рассчета на cpu\n",
        "%time y = (x-x+x*10.0)**2"
      ],
      "execution_count": 0,
      "outputs": [
        {
          "output_type": "stream",
          "text": [
            "CPU times: user 19.9 ms, sys: 52.9 ms, total: 72.8 ms\n",
            "Wall time: 77.1 ms\n"
          ],
          "name": "stdout"
        }
      ]
    },
    {
      "cell_type": "code",
      "metadata": {
        "id": "eqfe77I03VPR",
        "colab_type": "code",
        "outputId": "c4230f4c-99e2-4c21-af49-bff677ffca34",
        "colab": {
          "base_uri": "https://localhost:8080/",
          "height": 51
        }
      },
      "source": [
        "#замеряем время рассчета на gpu\n",
        "%time y_cuda = (x_cuda - x_cuda + x_cuda * 10.0)**2"
      ],
      "execution_count": 0,
      "outputs": [
        {
          "output_type": "stream",
          "text": [
            "CPU times: user 1.14 ms, sys: 579 µs, total: 1.72 ms\n",
            "Wall time: 1.92 ms\n"
          ],
          "name": "stdout"
        }
      ]
    }
  ]
}