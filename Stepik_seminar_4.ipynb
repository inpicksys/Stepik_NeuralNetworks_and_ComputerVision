{
  "nbformat": 4,
  "nbformat_minor": 0,
  "metadata": {
    "colab": {
      "name": "Stepik_seminar_4.ipynb",
      "version": "0.3.2",
      "provenance": [],
      "collapsed_sections": []
    },
    "kernelspec": {
      "name": "python3",
      "display_name": "Python 3"
    },
    "accelerator": "GPU"
  },
  "cells": [
    {
      "cell_type": "markdown",
      "metadata": {
        "id": "aaoMRAYa6D14",
        "colab_type": "text"
      },
      "source": [
        "Классификация рукописных чисел полносвязной сетью"
      ]
    },
    {
      "cell_type": "code",
      "metadata": {
        "id": "v1GsnRECxwRy",
        "colab_type": "code",
        "colab": {}
      },
      "source": [
        "import torch\n",
        "import random\n",
        "import numpy as np\n",
        "\n",
        "#инициализация random seed\n",
        "random.seed(0)\n",
        "np.random.seed(0)\n",
        "torch.manual_seed(0)\n",
        "torch.cuda.manual_seed(0)\n",
        "torch.backends.cudnn.deterministic = True\n",
        "#результаты не будет воспроизводимы внутри одного ноутбука\n",
        "#ноутбук надо перезапустить и проделать все ячейки сверху вниз"
      ],
      "execution_count": 0,
      "outputs": []
    },
    {
      "cell_type": "code",
      "metadata": {
        "id": "0Sgmp0B-x393",
        "colab_type": "code",
        "colab": {}
      },
      "source": [
        "#MNIST - датасет для классификации изображений\n",
        "import torchvision.datasets\n",
        "#качаем трейн и тест\n",
        "MNIST_train = torchvision.datasets.MNIST('./', download=True, train=True)\n",
        "MNIST_test = torchvision.datasets.MNIST('./', download=True, train=False)"
      ],
      "execution_count": 0,
      "outputs": []
    },
    {
      "cell_type": "code",
      "metadata": {
        "id": "6cobxlOYyCrz",
        "colab_type": "code",
        "outputId": "caf9ad57-79b2-4016-9170-c43943ba9bfb",
        "colab": {
          "base_uri": "https://localhost:8080/",
          "height": 153
        }
      },
      "source": [
        "#отдельно картинки, отдельно лейблы\n",
        "X_train = MNIST_train.train_data\n",
        "y_train = MNIST_train.train_labels\n",
        "X_test = MNIST_test.test_data\n",
        "y_test = MNIST_test.test_labels"
      ],
      "execution_count": 39,
      "outputs": [
        {
          "output_type": "stream",
          "text": [
            "/usr/local/lib/python3.6/dist-packages/torchvision/datasets/mnist.py:53: UserWarning: train_data has been renamed data\n",
            "  warnings.warn(\"train_data has been renamed data\")\n",
            "/usr/local/lib/python3.6/dist-packages/torchvision/datasets/mnist.py:43: UserWarning: train_labels has been renamed targets\n",
            "  warnings.warn(\"train_labels has been renamed targets\")\n",
            "/usr/local/lib/python3.6/dist-packages/torchvision/datasets/mnist.py:58: UserWarning: test_data has been renamed data\n",
            "  warnings.warn(\"test_data has been renamed data\")\n",
            "/usr/local/lib/python3.6/dist-packages/torchvision/datasets/mnist.py:48: UserWarning: test_labels has been renamed targets\n",
            "  warnings.warn(\"test_labels has been renamed targets\")\n"
          ],
          "name": "stderr"
        }
      ]
    },
    {
      "cell_type": "code",
      "metadata": {
        "id": "OeBAwyFAyEgn",
        "colab_type": "code",
        "outputId": "83db27cc-2f96-4dab-c02a-ac0af86554fd",
        "colab": {
          "base_uri": "https://localhost:8080/",
          "height": 34
        }
      },
      "source": [
        "#смотрим типы\n",
        "X_train.dtype, y_train.dtype"
      ],
      "execution_count": 40,
      "outputs": [
        {
          "output_type": "execute_result",
          "data": {
            "text/plain": [
              "(torch.uint8, torch.int64)"
            ]
          },
          "metadata": {
            "tags": []
          },
          "execution_count": 40
        }
      ]
    },
    {
      "cell_type": "code",
      "metadata": {
        "id": "Z5dlH3EnyGVY",
        "colab_type": "code",
        "colab": {}
      },
      "source": [
        "#преобразуем данные в дробные числа\n",
        "X_train = X_train.float()\n",
        "X_test = X_test.float()"
      ],
      "execution_count": 0,
      "outputs": []
    },
    {
      "cell_type": "code",
      "metadata": {
        "id": "r_zQDkY6yKTU",
        "colab_type": "code",
        "outputId": "43240af3-2562-405c-c624-0fa0c6b02fc8",
        "colab": {
          "base_uri": "https://localhost:8080/",
          "height": 34
        }
      },
      "source": [
        "#смотрим размерность\n",
        "#X - многомерный тензор (обозначаем большой буквой X)\n",
        "#60000 и 10000 изображений, картинки размером 28*28\n",
        "X_train.shape, X_test.shape"
      ],
      "execution_count": 42,
      "outputs": [
        {
          "output_type": "execute_result",
          "data": {
            "text/plain": [
              "(torch.Size([60000, 28, 28]), torch.Size([10000, 28, 28]))"
            ]
          },
          "metadata": {
            "tags": []
          },
          "execution_count": 42
        }
      ]
    },
    {
      "cell_type": "code",
      "metadata": {
        "id": "ZHnAFCd-yKP1",
        "colab_type": "code",
        "outputId": "de9a1079-2aa8-4b20-c739-52dcd6886aa9",
        "colab": {
          "base_uri": "https://localhost:8080/",
          "height": 34
        }
      },
      "source": [
        "#лейблы - одномерные тензоры (обозначаем маленькой буквой y)\n",
        "y_train.shape, y_test.shape"
      ],
      "execution_count": 43,
      "outputs": [
        {
          "output_type": "execute_result",
          "data": {
            "text/plain": [
              "(torch.Size([60000]), torch.Size([10000]))"
            ]
          },
          "metadata": {
            "tags": []
          },
          "execution_count": 43
        }
      ]
    },
    {
      "cell_type": "code",
      "metadata": {
        "id": "StjuHLw6yN1h",
        "colab_type": "code",
        "outputId": "74bb0d5a-4bec-441d-f37e-4d724a77b9ff",
        "colab": {
          "base_uri": "https://localhost:8080/",
          "height": 286
        }
      },
      "source": [
        "#рисуем картинку\n",
        "#импортируем библиотеку для графиков\n",
        "import matplotlib.pyplot as plt\n",
        "plt.imshow(X_train[0, :, :])\n",
        "plt.show()\n",
        "print(y_train[0])\n",
        "#видим цифру 5, ей соответствует лейбл 5"
      ],
      "execution_count": 44,
      "outputs": [
        {
          "output_type": "display_data",
          "data": {
            "image/png": "[encoded data removed]",
            "text/plain": [
              "<Figure size 432x288 with 1 Axes>"
            ]
          },
          "metadata": {
            "tags": []
          }
        },
        {
          "output_type": "stream",
          "text": [
            "tensor(5)\n"
          ],
          "name": "stdout"
        }
      ]
    },
    {
      "cell_type": "markdown",
      "metadata": {
        "id": "cXyyaYwpy7e_",
        "colab_type": "text"
      },
      "source": [
        "---------------------------------------\n"
      ]
    },
    {
      "cell_type": "markdown",
      "metadata": {
        "id": "3-3FCY-l7d3c",
        "colab_type": "text"
      },
      "source": [
        "Ответ на вопрос"
      ]
    },
    {
      "cell_type": "code",
      "metadata": {
        "id": "9AJGpCkbzgBf",
        "colab_type": "code",
        "colab": {}
      },
      "source": [
        "x=X_train"
      ],
      "execution_count": 0,
      "outputs": []
    },
    {
      "cell_type": "code",
      "metadata": {
        "id": "bngZ0W8My-p6",
        "colab_type": "code",
        "outputId": "56220980-4139-4c62-8d22-5a429d994b03",
        "colab": {
          "base_uri": "https://localhost:8080/",
          "height": 34
        }
      },
      "source": [
        "x.reshape(len(x[1]), len(x), len(x[2])).shape\n",
        "#x.reshape(-1,14,32,7).shape\n",
        "#x.reshape(-1,1,1).shape\n",
        "#x.reshape(-1,6000).shape\n",
        "#x.reshape(-1).shape\n",
        "#x.reshape(-1,9).shape"
      ],
      "execution_count": 46,
      "outputs": [
        {
          "output_type": "execute_result",
          "data": {
            "text/plain": [
              "torch.Size([28, 60000, 28])"
            ]
          },
          "metadata": {
            "tags": []
          },
          "execution_count": 46
        }
      ]
    },
    {
      "cell_type": "markdown",
      "metadata": {
        "id": "0a74mkogy9LR",
        "colab_type": "text"
      },
      "source": [
        "---------------------------------"
      ]
    },
    {
      "cell_type": "code",
      "metadata": {
        "id": "sZXA5tWQyPXn",
        "colab_type": "code",
        "colab": {}
      },
      "source": [
        "#каждая картинка описывается 2-мерных тензором\n",
        "#растянем его в один вектор - теряется информация о близости/удаленности пикселей\n",
        "#ф-я reshape: если задана размерность -1, значит \"все, что осталось\" (у нас первая размерность не изменяется)\n",
        "#             если задана новая размерность, значит она применяется\n",
        "X_train = X_train.reshape([-1, 28 * 28])\n",
        "X_test = X_test.reshape([-1, 28 * 28])"
      ],
      "execution_count": 0,
      "outputs": []
    },
    {
      "cell_type": "code",
      "metadata": {
        "id": "bM3kzD8QySS7",
        "colab_type": "code",
        "colab": {}
      },
      "source": [
        "#описываем нейросеть\n",
        "class MNISTNet(torch.nn.Module):\n",
        "    def __init__(self, n_hidden_neurons):\n",
        "        super(MNISTNet, self).__init__()\n",
        "        self.fc1 = torch.nn.Linear(28 * 28, n_hidden_neurons)\n",
        "        self.ac1 = torch.nn.Sigmoid()\n",
        "        self.fc2 = torch.nn.Linear(n_hidden_neurons, 10) \n",
        "    \n",
        "    def forward(self, x):\n",
        "        x = self.fc1(x)\n",
        "        x = self.ac1(x)\n",
        "        x = self.fc2(x)\n",
        "        return x\n",
        "    \n",
        "#создаем нейронную сеть\n",
        "mnist_net = MNISTNet(20)"
      ],
      "execution_count": 0,
      "outputs": []
    },
    {
      "cell_type": "code",
      "metadata": {
        "id": "vILZCBMryWo1",
        "colab_type": "code",
        "outputId": "3aa54645-f241-4520-9734-e0b5198e77f6",
        "colab": {
          "base_uri": "https://localhost:8080/",
          "height": 34
        }
      },
      "source": [
        "#проверяем, видит ли торч GPU\n",
        "torch.cuda.is_available()"
      ],
      "execution_count": 49,
      "outputs": [
        {
          "output_type": "execute_result",
          "data": {
            "text/plain": [
              "True"
            ]
          },
          "metadata": {
            "tags": []
          },
          "execution_count": 49
        }
      ]
    },
    {
      "cell_type": "code",
      "metadata": {
        "id": "MEPp39djyYwb",
        "colab_type": "code",
        "outputId": "6ec2397a-f37a-40d6-e07d-98a05f94d49a",
        "colab": {
          "base_uri": "https://localhost:8080/",
          "height": 289
        }
      },
      "source": [
        "#смотрим, занята ли видеокарта вычислениями\n",
        "#констольная команда: чтобы запустить через колаб, ставим ! в начале\n",
        "!nvidia-smi"
      ],
      "execution_count": 50,
      "outputs": [
        {
          "output_type": "stream",
          "text": [
            "Fri Jul  5 11:35:49 2019       \n",
            "+-----------------------------------------------------------------------------+\n",
            "| NVIDIA-SMI 418.67       Driver Version: 410.79       CUDA Version: 10.0     |\n",
            "|-------------------------------+----------------------+----------------------+\n",
            "| GPU  Name        Persistence-M| Bus-Id        Disp.A | Volatile Uncorr. ECC |\n",
            "| Fan  Temp  Perf  Pwr:Usage/Cap|         Memory-Usage | GPU-Util  Compute M. |\n",
            "|===============================+======================+======================|\n",
            "|   0  Tesla T4            Off  | 00000000:00:04.0 Off |                    0 |\n",
            "| N/A   46C    P0    26W /  70W |    905MiB / 15079MiB |      0%      Default |\n",
            "+-------------------------------+----------------------+----------------------+\n",
            "                                                                               \n",
            "+-----------------------------------------------------------------------------+\n",
            "| Processes:                                                       GPU Memory |\n",
            "|  GPU       PID   Type   Process name                             Usage      |\n",
            "|=============================================================================|\n",
            "+-----------------------------------------------------------------------------+\n"
          ],
          "name": "stdout"
        }
      ]
    },
    {
      "cell_type": "code",
      "metadata": {
        "id": "Av6FVwL2yav2",
        "colab_type": "code",
        "outputId": "d1d143cd-474f-425a-bea4-31de042c7394",
        "colab": {
          "base_uri": "https://localhost:8080/",
          "height": 799
        }
      },
      "source": [
        "#кроссплатформенный код\n",
        "device = torch.device('cuda:0' if torch.cuda.is_available() else 'cpu')\n",
        "#перкладываем нейросеть (ее парметры) на видеокарту\n",
        "#используем метод .to(device)\n",
        "mnist_net = mnist_net.to(device)\n",
        "\n",
        "#проверяем, переложилась ли нейросеть на видеокарту: выводим на экран параметры\n",
        "#если видим \"device='cuda:0'\", значит переложилась\n",
        "list(mnist_net.parameters())"
      ],
      "execution_count": 51,
      "outputs": [
        {
          "output_type": "execute_result",
          "data": {
            "text/plain": [
              "[Parameter containing:\n",
              " tensor([[-0.0003,  0.0192, -0.0294,  ...,  0.0219,  0.0037,  0.0021],\n",
              "         [-0.0198, -0.0150, -0.0104,  ..., -0.0203, -0.0060, -0.0299],\n",
              "         [-0.0201,  0.0149, -0.0333,  ..., -0.0203,  0.0012,  0.0080],\n",
              "         ...,\n",
              "         [ 0.0085,  0.0223, -0.0324,  ..., -0.0296,  0.0182, -0.0296],\n",
              "         [ 0.0112,  0.0016,  0.0017,  ..., -0.0132, -0.0219, -0.0235],\n",
              "         [ 0.0184, -0.0159,  0.0055,  ..., -0.0004, -0.0215, -0.0144]],\n",
              "        device='cuda:0', requires_grad=True), Parameter containing:\n",
              " tensor([-0.0016,  0.0012,  0.0225, -0.0180, -0.0320,  0.0338,  0.0183,  0.0087,\n",
              "         -0.0070, -0.0191, -0.0025,  0.0317, -0.0299,  0.0216, -0.0253,  0.0099,\n",
              "          0.0235,  0.0013, -0.0004,  0.0116], device='cuda:0',\n",
              "        requires_grad=True), Parameter containing:\n",
              " tensor([[-0.0631,  0.0384,  0.1812,  0.0456, -0.1603, -0.2221,  0.1136, -0.2145,\n",
              "           0.1861, -0.1722, -0.2138,  0.1888, -0.0780, -0.1694,  0.1796, -0.1333,\n",
              "           0.0685, -0.0729, -0.0012,  0.1434],\n",
              "         [ 0.1610, -0.1310,  0.0480,  0.1151,  0.0626, -0.2054,  0.1983,  0.0648,\n",
              "          -0.1549,  0.1347, -0.0135, -0.1890,  0.0388, -0.1843, -0.1360, -0.1275,\n",
              "          -0.0553,  0.0035, -0.0188,  0.0482],\n",
              "         [ 0.0936,  0.1411, -0.0915,  0.2222, -0.0667, -0.2056, -0.1404, -0.0105,\n",
              "           0.0019,  0.2131,  0.1133,  0.1391,  0.0352,  0.0522, -0.0430, -0.1996,\n",
              "           0.1025, -0.1930,  0.0287,  0.0040],\n",
              "         [ 0.2075, -0.2035, -0.0808,  0.2005, -0.1955,  0.0464, -0.2004, -0.0792,\n",
              "          -0.0337,  0.0049, -0.1303,  0.1805,  0.0916, -0.1165, -0.1418, -0.0409,\n",
              "           0.1185, -0.1616, -0.0765, -0.1771],\n",
              "         [-0.2068,  0.1576, -0.0692,  0.1478,  0.1047,  0.0819, -0.1788, -0.0269,\n",
              "           0.1924,  0.0293, -0.0895,  0.1954,  0.0381, -0.1518,  0.0131, -0.1033,\n",
              "           0.0495,  0.0730,  0.1971,  0.0301],\n",
              "         [ 0.0052,  0.1033, -0.1363,  0.2137,  0.1166, -0.1131, -0.0853,  0.0365,\n",
              "           0.0330, -0.0436, -0.1027,  0.1439,  0.1270,  0.1794, -0.1885, -0.0560,\n",
              "          -0.0802, -0.1821,  0.2088,  0.1478],\n",
              "         [-0.1638, -0.0875,  0.1415,  0.2121,  0.1195, -0.0483, -0.0218, -0.0505,\n",
              "          -0.1660,  0.1510,  0.0288, -0.0562,  0.0872,  0.1413,  0.0440,  0.0142,\n",
              "          -0.0205,  0.1348, -0.0325, -0.1962],\n",
              "         [ 0.1889,  0.0160, -0.0037,  0.0870,  0.1683,  0.0649, -0.1103,  0.2059,\n",
              "           0.0895,  0.1986,  0.0362,  0.1837,  0.0525, -0.0906,  0.1303,  0.0035,\n",
              "           0.0356,  0.2077, -0.1108, -0.1096],\n",
              "         [ 0.2224,  0.0236,  0.1826,  0.0916, -0.0903, -0.0166, -0.0577,  0.1712,\n",
              "           0.0424, -0.0365, -0.1201,  0.1207, -0.0694,  0.0273,  0.1982,  0.0671,\n",
              "          -0.0286,  0.1851,  0.1863, -0.0414],\n",
              "         [ 0.0387, -0.1881,  0.2063, -0.1936,  0.1517, -0.1363,  0.2205, -0.0672,\n",
              "          -0.1436, -0.1081, -0.2180, -0.1124, -0.1406, -0.0607, -0.0484,  0.1121,\n",
              "          -0.0929, -0.0789,  0.0474,  0.0543]], device='cuda:0',\n",
              "        requires_grad=True), Parameter containing:\n",
              " tensor([-0.1581, -0.1972,  0.1948, -0.0328,  0.0810, -0.1882, -0.0855, -0.1778,\n",
              "          0.0708,  0.1038], device='cuda:0', requires_grad=True)]"
            ]
          },
          "metadata": {
            "tags": []
          },
          "execution_count": 51
        }
      ]
    },
    {
      "cell_type": "code",
      "metadata": {
        "id": "XP4qrWMMydOc",
        "colab_type": "code",
        "colab": {}
      },
      "source": [
        "#кросс-энтропия - лосс, который используется в классификации\n",
        "loss = torch.nn.CrossEntropyLoss()\n",
        "#оптимизатор Adam\n",
        "optimizer = torch.optim.Adam(mnist_net.parameters(), lr=1.0e-3)"
      ],
      "execution_count": 0,
      "outputs": []
    },
    {
      "cell_type": "code",
      "metadata": {
        "id": "DpKjHyjDyiLq",
        "colab_type": "code",
        "outputId": "4e7a52ef-086a-41b7-d6d4-1832062a713c",
        "colab": {
          "base_uri": "https://localhost:8080/",
          "height": 1000
        }
      },
      "source": [
        "#будем делить на батчи: трейн большой и может не поместиться на видеокарту, так процесс обучения происходит быстрее\n",
        "#размер батча\n",
        "batch_size = 100\n",
        "\n",
        "#будем сохранять в списки значения accuracy и loss на тесте, чтобы потом построить график\n",
        "test_accuracy_history = []\n",
        "test_loss_history = []\n",
        "\n",
        "#перекладываем весь тест на видеокарту\n",
        "X_test = X_test.to(device)\n",
        "y_test = y_test.to(device)\n",
        "\n",
        "for epoch in range(200):\n",
        "  #перемешиваем датасет\n",
        "    order = np.random.permutation(len(X_train))\n",
        "    \n",
        "    for start_index in range(0, len(X_train), batch_size):\n",
        "        optimizer.zero_grad()\n",
        "        \n",
        "        batch_indexes = order[start_index:start_index+batch_size]\n",
        "        #выделяем участки, перекладаваем их по отдельности на видеокарту\n",
        "        X_batch = X_train[batch_indexes].to(device)\n",
        "        y_batch = y_train[batch_indexes].to(device)\n",
        "        \n",
        "        #делаем предсказание\n",
        "        preds = mnist_net.forward(X_batch) \n",
        "        #счиатем лосс\n",
        "        loss_value = loss(preds, y_batch)\n",
        "        #счиатем градиенты\n",
        "        loss_value.backward()\n",
        "        \n",
        "        #делаем шаг\n",
        "        optimizer.step()\n",
        "\n",
        "    #контроль качества: делаем предсказание на тестовом датасете\n",
        "    #предполагаем, что он не очень большой, поэтому не делим на батчи\n",
        "    test_preds = mnist_net.forward(X_test)\n",
        "    #сохраняем знаечние в список\n",
        "    test_loss_history.append(loss(test_preds, y_test))\n",
        "    \n",
        "    #считаем долю правильных ответов - accuracy\n",
        "    #даже если выходы не проходят через софтмакс, мы можем сказать, что\n",
        "    #нейросеть предсказывает тот класс, у которого максимальное значение на выходе\n",
        "    #сравниваем номер этого выхода с лейблом\n",
        "    accuracy = (test_preds.argmax(dim=1) == y_test).float().mean()\n",
        "    #сохраняем знаечние в список\n",
        "    test_accuracy_history.append(accuracy)\n",
        "    print(accuracy)"
      ],
      "execution_count": 58,
      "outputs": [
        {
          "output_type": "stream",
          "text": [
            "tensor(0.9042, device='cuda:0')\n",
            "tensor(0.9084, device='cuda:0')\n",
            "tensor(0.9129, device='cuda:0')\n",
            "tensor(0.9110, device='cuda:0')\n",
            "tensor(0.9195, device='cuda:0')\n",
            "tensor(0.9168, device='cuda:0')\n",
            "tensor(0.9140, device='cuda:0')\n",
            "tensor(0.9133, device='cuda:0')\n",
            "tensor(0.9158, device='cuda:0')\n",
            "tensor(0.9155, device='cuda:0')\n",
            "tensor(0.9131, device='cuda:0')\n",
            "tensor(0.9178, device='cuda:0')\n",
            "tensor(0.9130, device='cuda:0')\n",
            "tensor(0.9219, device='cuda:0')\n",
            "tensor(0.9211, device='cuda:0')\n",
            "tensor(0.9195, device='cuda:0')\n",
            "tensor(0.9156, device='cuda:0')\n",
            "tensor(0.9171, device='cuda:0')\n",
            "tensor(0.9065, device='cuda:0')\n",
            "tensor(0.9108, device='cuda:0')\n",
            "tensor(0.9176, device='cuda:0')\n",
            "tensor(0.9071, device='cuda:0')\n",
            "tensor(0.9139, device='cuda:0')\n",
            "tensor(0.9161, device='cuda:0')\n",
            "tensor(0.9232, device='cuda:0')\n",
            "tensor(0.9205, device='cuda:0')\n",
            "tensor(0.9195, device='cuda:0')\n",
            "tensor(0.9166, device='cuda:0')\n",
            "tensor(0.9175, device='cuda:0')\n",
            "tensor(0.9192, device='cuda:0')\n",
            "tensor(0.9127, device='cuda:0')\n",
            "tensor(0.9158, device='cuda:0')\n",
            "tensor(0.9219, device='cuda:0')\n",
            "tensor(0.9162, device='cuda:0')\n",
            "tensor(0.9164, device='cuda:0')\n",
            "tensor(0.9213, device='cuda:0')\n",
            "tensor(0.9257, device='cuda:0')\n",
            "tensor(0.9153, device='cuda:0')\n",
            "tensor(0.9209, device='cuda:0')\n",
            "tensor(0.9151, device='cuda:0')\n",
            "tensor(0.9227, device='cuda:0')\n",
            "tensor(0.9220, device='cuda:0')\n",
            "tensor(0.9141, device='cuda:0')\n",
            "tensor(0.9255, device='cuda:0')\n",
            "tensor(0.9226, device='cuda:0')\n",
            "tensor(0.9248, device='cuda:0')\n",
            "tensor(0.9229, device='cuda:0')\n",
            "tensor(0.9234, device='cuda:0')\n",
            "tensor(0.9253, device='cuda:0')\n",
            "tensor(0.9290, device='cuda:0')\n",
            "tensor(0.9262, device='cuda:0')\n",
            "tensor(0.9199, device='cuda:0')\n",
            "tensor(0.9197, device='cuda:0')\n",
            "tensor(0.9237, device='cuda:0')\n",
            "tensor(0.9279, device='cuda:0')\n",
            "tensor(0.9221, device='cuda:0')\n",
            "tensor(0.9303, device='cuda:0')\n",
            "tensor(0.9273, device='cuda:0')\n",
            "tensor(0.9266, device='cuda:0')\n",
            "tensor(0.9238, device='cuda:0')\n",
            "tensor(0.9252, device='cuda:0')\n",
            "tensor(0.9276, device='cuda:0')\n",
            "tensor(0.9274, device='cuda:0')\n",
            "tensor(0.9294, device='cuda:0')\n",
            "tensor(0.9231, device='cuda:0')\n",
            "tensor(0.9213, device='cuda:0')\n",
            "tensor(0.9305, device='cuda:0')\n",
            "tensor(0.9273, device='cuda:0')\n",
            "tensor(0.9297, device='cuda:0')\n",
            "tensor(0.9282, device='cuda:0')\n",
            "tensor(0.9235, device='cuda:0')\n",
            "tensor(0.9221, device='cuda:0')\n",
            "tensor(0.9250, device='cuda:0')\n",
            "tensor(0.9301, device='cuda:0')\n",
            "tensor(0.9263, device='cuda:0')\n",
            "tensor(0.9320, device='cuda:0')\n",
            "tensor(0.9329, device='cuda:0')\n",
            "tensor(0.9339, device='cuda:0')\n",
            "tensor(0.9254, device='cuda:0')\n",
            "tensor(0.9309, device='cuda:0')\n",
            "tensor(0.9364, device='cuda:0')\n",
            "tensor(0.9336, device='cuda:0')\n",
            "tensor(0.9321, device='cuda:0')\n",
            "tensor(0.9283, device='cuda:0')\n",
            "tensor(0.9295, device='cuda:0')\n",
            "tensor(0.9258, device='cuda:0')\n",
            "tensor(0.9267, device='cuda:0')\n",
            "tensor(0.9304, device='cuda:0')\n",
            "tensor(0.9321, device='cuda:0')\n",
            "tensor(0.9271, device='cuda:0')\n",
            "tensor(0.9216, device='cuda:0')\n",
            "tensor(0.9273, device='cuda:0')\n",
            "tensor(0.9271, device='cuda:0')\n",
            "tensor(0.9273, device='cuda:0')\n",
            "tensor(0.9313, device='cuda:0')\n",
            "tensor(0.9288, device='cuda:0')\n",
            "tensor(0.9275, device='cuda:0')\n",
            "tensor(0.9284, device='cuda:0')\n",
            "tensor(0.9272, device='cuda:0')\n",
            "tensor(0.9287, device='cuda:0')\n",
            "tensor(0.9316, device='cuda:0')\n",
            "tensor(0.9291, device='cuda:0')\n",
            "tensor(0.9309, device='cuda:0')\n",
            "tensor(0.9316, device='cuda:0')\n",
            "tensor(0.9287, device='cuda:0')\n",
            "tensor(0.9334, device='cuda:0')\n",
            "tensor(0.9315, device='cuda:0')\n",
            "tensor(0.9272, device='cuda:0')\n",
            "tensor(0.9263, device='cuda:0')\n",
            "tensor(0.9262, device='cuda:0')\n",
            "tensor(0.9272, device='cuda:0')\n",
            "tensor(0.9248, device='cuda:0')\n",
            "tensor(0.9274, device='cuda:0')\n",
            "tensor(0.9210, device='cuda:0')\n",
            "tensor(0.9307, device='cuda:0')\n",
            "tensor(0.9335, device='cuda:0')\n",
            "tensor(0.9312, device='cuda:0')\n",
            "tensor(0.9271, device='cuda:0')\n",
            "tensor(0.9289, device='cuda:0')\n",
            "tensor(0.9310, device='cuda:0')\n",
            "tensor(0.9293, device='cuda:0')\n",
            "tensor(0.9263, device='cuda:0')\n",
            "tensor(0.9347, device='cuda:0')\n",
            "tensor(0.9349, device='cuda:0')\n",
            "tensor(0.9311, device='cuda:0')\n",
            "tensor(0.9332, device='cuda:0')\n",
            "tensor(0.9309, device='cuda:0')\n",
            "tensor(0.9323, device='cuda:0')\n",
            "tensor(0.9298, device='cuda:0')\n",
            "tensor(0.9317, device='cuda:0')\n",
            "tensor(0.9316, device='cuda:0')\n",
            "tensor(0.9300, device='cuda:0')\n",
            "tensor(0.9334, device='cuda:0')\n",
            "tensor(0.9361, device='cuda:0')\n",
            "tensor(0.9339, device='cuda:0')\n",
            "tensor(0.9344, device='cuda:0')\n",
            "tensor(0.9342, device='cuda:0')\n",
            "tensor(0.9362, device='cuda:0')\n",
            "tensor(0.9343, device='cuda:0')\n",
            "tensor(0.9336, device='cuda:0')\n",
            "tensor(0.9278, device='cuda:0')\n",
            "tensor(0.9342, device='cuda:0')\n",
            "tensor(0.9359, device='cuda:0')\n",
            "tensor(0.9356, device='cuda:0')\n",
            "tensor(0.9337, device='cuda:0')\n",
            "tensor(0.9360, device='cuda:0')\n",
            "tensor(0.9358, device='cuda:0')\n",
            "tensor(0.9344, device='cuda:0')\n",
            "tensor(0.9321, device='cuda:0')\n",
            "tensor(0.9359, device='cuda:0')\n",
            "tensor(0.9323, device='cuda:0')\n",
            "tensor(0.9327, device='cuda:0')\n",
            "tensor(0.9366, device='cuda:0')\n",
            "tensor(0.9292, device='cuda:0')\n",
            "tensor(0.9348, device='cuda:0')\n",
            "tensor(0.9380, device='cuda:0')\n",
            "tensor(0.9335, device='cuda:0')\n",
            "tensor(0.9337, device='cuda:0')\n",
            "tensor(0.9360, device='cuda:0')\n",
            "tensor(0.9307, device='cuda:0')\n",
            "tensor(0.9349, device='cuda:0')\n",
            "tensor(0.9366, device='cuda:0')\n",
            "tensor(0.9306, device='cuda:0')\n",
            "tensor(0.9347, device='cuda:0')\n",
            "tensor(0.9356, device='cuda:0')\n",
            "tensor(0.9361, device='cuda:0')\n",
            "tensor(0.9329, device='cuda:0')\n",
            "tensor(0.9325, device='cuda:0')\n",
            "tensor(0.9382, device='cuda:0')\n",
            "tensor(0.9378, device='cuda:0')\n",
            "tensor(0.9380, device='cuda:0')\n",
            "tensor(0.9356, device='cuda:0')\n",
            "tensor(0.9317, device='cuda:0')\n",
            "tensor(0.9327, device='cuda:0')\n",
            "tensor(0.9316, device='cuda:0')\n",
            "tensor(0.9336, device='cuda:0')\n",
            "tensor(0.9344, device='cuda:0')\n",
            "tensor(0.9332, device='cuda:0')\n",
            "tensor(0.9319, device='cuda:0')\n",
            "tensor(0.9302, device='cuda:0')\n",
            "tensor(0.9318, device='cuda:0')\n",
            "tensor(0.9336, device='cuda:0')\n",
            "tensor(0.9327, device='cuda:0')\n",
            "tensor(0.9369, device='cuda:0')\n",
            "tensor(0.9358, device='cuda:0')\n",
            "tensor(0.9352, device='cuda:0')\n",
            "tensor(0.9336, device='cuda:0')\n",
            "tensor(0.9339, device='cuda:0')\n",
            "tensor(0.9341, device='cuda:0')\n",
            "tensor(0.9335, device='cuda:0')\n",
            "tensor(0.9341, device='cuda:0')\n",
            "tensor(0.9251, device='cuda:0')\n",
            "tensor(0.9351, device='cuda:0')\n",
            "tensor(0.9333, device='cuda:0')\n",
            "tensor(0.9322, device='cuda:0')\n",
            "tensor(0.9320, device='cuda:0')\n",
            "tensor(0.9321, device='cuda:0')\n",
            "tensor(0.9315, device='cuda:0')\n",
            "tensor(0.9294, device='cuda:0')\n",
            "tensor(0.9330, device='cuda:0')\n"
          ],
          "name": "stdout"
        }
      ]
    },
    {
      "cell_type": "code",
      "metadata": {
        "id": "-6Rp77p1yoYN",
        "colab_type": "code",
        "outputId": "156030ea-875d-4f84-8857-9e3a51c2f052",
        "colab": {
          "base_uri": "https://localhost:8080/",
          "height": 286
        }
      },
      "source": [
        "#выводим графики\n",
        "#колебания в лоссе обычно меньше, чем колебания в accuracy, потому что\n",
        "#accuracy - это округленное -> более дискретное значение\n",
        "#можно сравнить графики по трейну и по тесту: если на трейне качество улучшается, а \n",
        "#на тесте нет, то это переобучение. Можно уменьшить кол-во параметров нейронной сети,\n",
        "#кол-во слоев и их размеры\n",
        "plt.plot(test_accuracy_history)"
      ],
      "execution_count": 59,
      "outputs": [
        {
          "output_type": "execute_result",
          "data": {
            "text/plain": [
              "[<matplotlib.lines.Line2D at 0x7f1086082e80>]"
            ]
          },
          "metadata": {
            "tags": []
          },
          "execution_count": 59
        },
        {
          "output_type": "display_data",
          "data": {
            "image/png": "[encoded data removed]",
            "text/plain": [
              "<Figure size 432x288 with 1 Axes>"
            ]
          },
          "metadata": {
            "tags": []
          }
        }
      ]
    },
    {
      "cell_type": "code",
      "metadata": {
        "id": "9MGzbQVqCq1h",
        "colab_type": "code",
        "outputId": "86d796ac-85ff-4f25-c29b-207225acd213",
        "colab": {
          "base_uri": "https://localhost:8080/",
          "height": 269
        }
      },
      "source": [
        "plt.plot(test_loss_history);"
      ],
      "execution_count": 60,
      "outputs": [
        {
          "output_type": "display_data",
          "data": {
            "image/png": "[encoded data removed]",
            "text/plain": [
              "<Figure size 432x288 with 1 Axes>"
            ]
          },
          "metadata": {
            "tags": []
          }
        }
      ]
    },
    {
      "cell_type": "code",
      "metadata": {
        "id": "-Lrcf3jTTAfX",
        "colab_type": "code",
        "outputId": "6523d5aa-8028-4d68-9828-da3c87524b0e",
        "colab": {
          "base_uri": "https://localhost:8080/",
          "height": 303
        }
      },
      "source": [
        "#X_test[0]\n",
        "#y_test[0]\n",
        "num = random.randint(0, 10000)\n",
        "X_test = X_test.to('cpu')\n",
        "y_test = y_test.to('cpu')\n",
        "X_test = X_test.reshape([-1, 28, 28])\n",
        "import matplotlib.pyplot as plt\n",
        "plt.imshow(X_test[num])\n",
        "plt.show()\n",
        "print(y_test[num])\n",
        "print(num)"
      ],
      "execution_count": 64,
      "outputs": [
        {
          "output_type": "display_data",
          "data": {
            "image/png": "[encoded data removed]",
            "text/plain": [
              "<Figure size 432x288 with 1 Axes>"
            ]
          },
          "metadata": {
            "tags": []
          }
        },
        {
          "output_type": "stream",
          "text": [
            "tensor(3)\n",
            "4242\n"
          ],
          "name": "stdout"
        }
      ]
    },
    {
      "cell_type": "code",
      "metadata": {
        "id": "nGtcbzEkSYl8",
        "colab_type": "code",
        "outputId": "2583578b-4f4a-481f-a610-ff3fc20f269a",
        "colab": {
          "base_uri": "https://localhost:8080/",
          "height": 51
        }
      },
      "source": [
        "\n",
        "X_test = X_test.reshape([-1, 28*28])\n",
        "X_test = X_test.to(device)\n",
        "y_test = y_test.to(device)\n",
        "test_preds_1 = mnist_net.forward(X_test[num])\n",
        "#сохраняем знаечние в список\n",
        "#test_loss_history.append(loss(test_preds, y_test))\n",
        "print(test_preds_1.argmax(dim=-1))\n",
        "accuracy = (test_preds_1.argmax(dim=-1) == y_test[num]).float().mean()\n",
        "#сохраняем знаечние в список\n",
        "#test_accuracy_history.append(accuracy)\n",
        "print(accuracy)"
      ],
      "execution_count": 65,
      "outputs": [
        {
          "output_type": "stream",
          "text": [
            "tensor(3, device='cuda:0')\n",
            "tensor(1., device='cuda:0')\n"
          ],
          "name": "stdout"
        }
      ]
    }
  ]
}